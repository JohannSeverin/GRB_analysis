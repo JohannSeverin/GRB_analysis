{
 "cells": [
  {
   "cell_type": "markdown",
   "metadata": {},
   "source": [
    "__This is intended as the final version of the code to produce the results shown in the paper__"
   ]
  },
  {
   "cell_type": "code",
   "execution_count": 1,
   "metadata": {},
   "outputs": [],
   "source": [
    "import numpy as np\n",
    "import matplotlib.pyplot as plt\n",
    "import pandas as pd"
   ]
  },
  {
   "cell_type": "markdown",
   "metadata": {},
   "source": [
    "__This part downloads the light curves and information from the swift catalogue__"
   ]
  },
  {
   "cell_type": "markdown",
   "metadata": {},
   "source": [
    "We use the following files:\n",
    "\n",
    "_Light curves from:_https://swift.gsfc.nasa.gov/results/batgrbcat/\n",
    "\n",
    "_Summary about duration and trig_id from:_\n",
    "https://swift.gsfc.nasa.gov/results/batgrbcat/summary_cflux/summary_general_info/summary_burst_durations.txt\n",
    "\n",
    "_The parameters for fluence can be found in the following:_\n",
    "https://swift.gsfc.nasa.gov/results/batgrbcat/summary_cflux/summary_T100/best_model.txt\n",
    "https://swift.gsfc.nasa.gov/results/batgrbcat/summary_cflux/summary_T100/summary_pow_energy_fluence.txt\n",
    "https://swift.gsfc.nasa.gov/results/batgrbcat/summary_cflux/summary_T100/summary_cutpow_energy_fluence.txt\n",
    "\n",
    "Ours were accessed and saved at 25-09-2019 in a folder called \"Summary_files\"\n",
    "\n",
    "The following code scraped the 64-ms-binned light curves from the Swift Catalogue.\n",
    "Firstly the information from the duration data is downloaded into a Pandas Dataframe to extract GRBnames, Trig_ID and T100-information"
   ]
  },
  {
   "cell_type": "code",
   "execution_count": 2,
   "metadata": {},
   "outputs": [],
   "source": [
    "#Extracting information about GRB-name, ID and T100:\n",
    "Duration_DataFrame = pd.read_table(\"Summary_files/summary_burst_durations.txt\", comment = '#', sep = '|', \\\n",
    "                                  header = None) #Grabbing the data into a dataframe\n",
    "Duration_Data = Duration_DataFrame.loc[:, [0, 1, 3, 4]] #Only extracting the wanted\n",
    "Duration_Data.columns = ['GRBname', 'Trig_id', 'T100_start', 'T100_stop']\n",
    "Duration_Data['T100'] = pd.to_numeric(Duration_Data.T100_stop, errors = 'coerce') - \\\n",
    "                        pd.to_numeric(Duration_Data.T100_start, errors = 'coerce') #Finding the T100-value\n",
    "Duration_Data = Duration_Data.set_index('GRBname', drop = True)\n",
    "Duration_Data.index = Duration_Data.index.str.strip()  "
   ]
  },
  {
   "cell_type": "code",
   "execution_count": 3,
   "metadata": {},
   "outputs": [],
   "source": [
    "#Extracting information about best fit parameters\n",
    "best_fit = pd.read_table(\"Summary_files/best_model.txt\", comment = '#', sep = '|', \\\n",
    "                          header = None, skipinitialspace = True)\n",
    "\n",
    "\n",
    "PL_fluence = pd.read_table(\"Summary_files/summary_pow_energy_fluence.txt\", comment = '#', sep = '|', \\\n",
    "                          header = None, skipinitialspace = True)\n",
    "PL_fluence.columns = \"GRBname | Trig_ID | 15_25kev | 15_25kev_low | 15_25kev_hi | 25_50kev | 25_50kev_low | 25_50kev_hi | 50_100kev | 50_100kev_low | 50_100kev_hi | 100_150kev | 100_150kev_low | 100_150kev_hi | 100_350kev | 100_350kev_low | 100_350kev_hi | 15_150kev | 15_150kev_low | 15_150kev_hi | 15_350kev | 15_350kev_low | 15_350kev_hi | Exposure_time | Spectrum_start | Spectrum_stop | comment\".split(\"|\")\n",
    "PL_fluence.columns = PL_fluence.columns.str.strip()\n",
    "PL_fluence = PL_fluence.drop_duplicates(subset = 'GRBname')\n",
    "PL_fluence = PL_fluence.set_index('GRBname')\n",
    "\n",
    "\n",
    "CPL_fluence = pd.read_table(\"Summary_files/summary_cutpow_energy_fluence.txt\", comment = '#', sep = '|', \\\n",
    "                          header = None, skipinitialspace = True)\n",
    "CPL_fluence.columns = \"GRBname | Trig_ID | 15_25kev | 15_25kev_low | 15_25kev_hi | 25_50kev | 25_50kev_low | 25_50kev_hi | 50_100kev | 50_100kev_low | 50_100kev_hi | 100_150kev | 100_150kev_low | 100_150kev_hi | 100_350kev | 100_350kev_low | 100_350kev_hi | 15_150kev | 15_150kev_low | 15_150kev_hi | 15_350kev | 15_350kev_low | 15_350kev_hi | Exposure_time | Spectrum_start | Spectrum_stop | comment\".split(\"|\")\n",
    "CPL_fluence.columns = CPL_fluence.columns.str.strip()\n",
    "CPL_fluence = CPL_fluence.drop_duplicates(subset = 'GRBname')\n",
    "CPL_fluence = CPL_fluence.set_index('GRBname')\n",
    "\n",
    "#Regn flux ud her\n",
    "PL_band5 = PL_fluence['15_350kev']\n",
    "CPL_band5 = CPL_fluence['15_350kev']\n",
    "best_fit = best_fit.set_index(0)\n",
    "CPL_better = best_fit[2].apply(lambda x: x == \"CPL\")\n",
    "\n",
    "\n",
    "best_fit_fluence = PL_band5.copy()\n",
    "best_fit_fluence[np.array(CPL_better)] = CPL_band5[np.array(CPL_better)]\n",
    "\n",
    "#Check this part for errors, if something goes wrong"
   ]
  },
  {
   "cell_type": "code",
   "execution_count": 8,
   "metadata": {},
   "outputs": [],
   "source": [
    "from astropy.utils.data import download_file\n",
    "import shutil\n",
    "import os\n",
    "\n",
    "def hent(GRBnames,triggerID):\n",
    "    downloaded_lc = os.listdir('BAT_lc_25-09-2019')\n",
    "    count = 0\n",
    "    for grbname, trigger in zip(GRBnames,triggerID):\n",
    "        grbname, trigger = str(grbname).strip(), str(trigger).strip()\n",
    "        if grbname+'_lc.dat' in downloaded_lc:\n",
    "            count += 1\n",
    "            continue\n",
    "        elif len(trigger) == 6:\n",
    "            lc_url = \"https://swift.gsfc.nasa.gov/results/batgrbcat/%s/data_product/00%s000-results/lc/64ms_lc_ascii.dat\"%(grbname, trigger)\n",
    "        elif len(trigger) == 11:\n",
    "            lc_url = \"https://swift.gsfc.nasa.gov/results/batgrbcat/%s/data_product/%s-results/lc/64ms_lc_ascii.dat\"%(grbname, trigger)\n",
    "        else:\n",
    "            print('trigger ID for %s is not conventional'%(grbname))\n",
    "            continue\n",
    "        try:\n",
    "            tmp_path = download_file(lc_url)\n",
    "            batlc_path = \"BAT_lc_25-09-2019/%s_lc.dat\"%(grbname)\n",
    "            shutil.move(tmp_path, batlc_path)\n",
    "        except:\n",
    "            print(\"Fail at %s\"%grbname)\n",
    "    print(count)\n",
    "    return"
   ]
  },
  {
   "cell_type": "code",
   "execution_count": null,
   "metadata": {},
   "outputs": [
    {
     "name": "stdout",
     "output_type": "stream",
     "text": [
      "Fail at GRB170710B\n",
      "Fail at GRB170524B\n",
      "Fail at GRB170325A\n",
      "Fail at GRB170131A\n",
      "trigger ID for GRB160623A is not conventional\n",
      "Fail at GRB160612A\n",
      "Fail at GRB160409A\n",
      "Fail at GRB150710B\n",
      "Fail at GRB150530B\n",
      "Fail at GRB150407A\n",
      "Fail at GRB150402A\n",
      "Fail at GRB150204A\n",
      "Fail at GRB150101B\n",
      "Fail at GRB141229A\n",
      "Fail at GRB140909A\n",
      "Fail at GRB140611A\n",
      "Fail at GRB140529A\n",
      "Fail at GRB131031A\n",
      "Fail at GRB130913A\n",
      "Fail at GRB130518A\n",
      "Fail at GRB120817B\n",
      "Fail at GRB110604A\n"
     ]
    }
   ],
   "source": [
    "hent(Duration_Data.index,Duration_Data.Trig_id)"
   ]
  },
  {
   "cell_type": "code",
   "execution_count": 6,
   "metadata": {},
   "outputs": [],
   "source": [
    "downloaded_lc = os.listdir('BAT_lc_25-09-2019')"
   ]
  },
  {
   "cell_type": "code",
   "execution_count": null,
   "metadata": {},
   "outputs": [],
   "source": []
  },
  {
   "cell_type": "code",
   "execution_count": null,
   "metadata": {},
   "outputs": [],
   "source": []
  },
  {
   "cell_type": "code",
   "execution_count": null,
   "metadata": {},
   "outputs": [],
   "source": [
    "def prepare_lc(filename,filepath = 'BAT_lc_25-09-2019'):\n",
    "    lc = pd.read_pickle(\"%s/%s\"%(filepath,filename))\n",
    "    grbname = filename[:-7]\n",
    "    lc = lc.loc[lc]"
   ]
  }
 ],
 "metadata": {
  "kernelspec": {
   "display_name": "Python 3",
   "language": "python",
   "name": "python3"
  },
  "language_info": {
   "codemirror_mode": {
    "name": "ipython",
    "version": 3
   },
   "file_extension": ".py",
   "mimetype": "text/x-python",
   "name": "python",
   "nbconvert_exporter": "python",
   "pygments_lexer": "ipython3",
   "version": "3.7.1"
  }
 },
 "nbformat": 4,
 "nbformat_minor": 2
}
