{
 "cells": [
  {
   "cell_type": "markdown",
   "metadata": {},
   "source": [
    "__This is intended as the final version of the code to produce the results shown in the paper__"
   ]
  },
  {
   "cell_type": "code",
   "execution_count": 13,
   "metadata": {},
   "outputs": [],
   "source": [
    "import numpy as np\n",
    "import matplotlib.pyplot as plt\n",
    "import pandas as pd\n",
    "import os"
   ]
  },
  {
   "cell_type": "markdown",
   "metadata": {},
   "source": [
    "__This part downloads the light curves and information from the swift catalogue__"
   ]
  },
  {
   "cell_type": "markdown",
   "metadata": {},
   "source": [
    "We use the following files:\n",
    "\n",
    "_Light curves from:_https://swift.gsfc.nasa.gov/results/batgrbcat/\n",
    "\n",
    "_Summary about duration and trig_id from:_\n",
    "https://swift.gsfc.nasa.gov/results/batgrbcat/summary_cflux/summary_general_info/summary_burst_durations.txt\n",
    "\n",
    "_The parameters for fluence can be found in the following:_\n",
    "https://swift.gsfc.nasa.gov/results/batgrbcat/summary_cflux/summary_T100/best_model.txt\n",
    "https://swift.gsfc.nasa.gov/results/batgrbcat/summary_cflux/summary_T100/summary_pow_energy_fluence.txt\n",
    "https://swift.gsfc.nasa.gov/results/batgrbcat/summary_cflux/summary_T100/summary_cutpow_energy_fluence.txt\n",
    "\n",
    "Ours were accessed and saved at 25-09-2019 in a folder called \"Summary_files\"\n",
    "\n",
    "The following code scraped the 64-ms-binned light curves from the Swift Catalogue.\n",
    "Firstly the information from the duration data is downloaded into a Pandas Dataframe to extract GRBnames, Trig_ID and T100-information"
   ]
  },
  {
   "cell_type": "code",
   "execution_count": 79,
   "metadata": {},
   "outputs": [],
   "source": [
    "#Extracting information about GRB-name, ID and T100:\n",
    "Duration_DataFrame = pd.read_table(\"Summary_files/summary_burst_durations.txt\", comment = '#', sep = '|', \\\n",
    "                                  header = None) #Grabbing the data into a dataframe\n",
    "Duration_Data = Duration_DataFrame.loc[:, [0, 1, 3, 4]] #Only extracting the wanted\n",
    "Duration_Data.columns = ['GRBname', 'Trig_id', 'T100_start', 'T100_stop']\n",
    "Duration_Data['T100_start'] = pd.to_numeric(Duration_Data.T100_start, errors = 'coerce')\n",
    "Duration_Data['T100_stop'] = pd.to_numeric(Duration_Data.T100_stop, errors = 'coerce')\n",
    "Duration_Data['T100'] = Duration_Data['T100_stop'] - Duration_Data['T100_start']  #Finding the T100-value\n",
    "Duration_Data.drop_duplicates(subset = 'GRBname', inplace = True)\n",
    "Duration_Data = Duration_Data.set_index('GRBname', drop = True)\n",
    "Duration_Data.index = Duration_Data.index.str.strip()  "
   ]
  },
  {
   "cell_type": "code",
   "execution_count": 51,
   "metadata": {},
   "outputs": [],
   "source": [
    "#Extracting information about GRB-name, ID and T100:\n",
    "Duration_DataFrame = pd.read_table(\"Summary_files/summary_burst_durations.txt\", comment = '#', sep = '|', \\\n",
    "                                  header = None) #Grabbing the data into a dataframe\n",
    "Duration_Data = Duration_DataFrame.loc[:, [0, 1, 5, 6]] #Only extracting the wanted\n",
    "Duration_Data.columns = ['GRBname', 'Trig_id', 'T90_start', 'T90_stop']\n",
    "Duration_Data['T90_start'] = pd.to_numeric(Duration_Data.T90_start, errors = 'coerce')\n",
    "Duration_Data['T90_stop'] = pd.to_numeric(Duration_Data.T90_stop, errors = 'coerce')\n",
    "Duration_Data['T90'] = Duration_Data['T90_stop'] - Duration_Data['T90_start']  #Finding the T100-value\n",
    "Duration_Data.drop_duplicates(subset = 'GRBname', inplace = True)\n",
    "Duration_Data = Duration_Data.set_index('GRBname', drop = True)\n",
    "Duration_Data.index = Duration_Data.index.str.strip()  "
   ]
  },
  {
   "cell_type": "code",
   "execution_count": 53,
   "metadata": {},
   "outputs": [],
   "source": [
    "# Duration_Data"
   ]
  },
  {
   "cell_type": "code",
   "execution_count": 54,
   "metadata": {},
   "outputs": [],
   "source": [
    "Duration_Data.reset_index().loc[:, ['GRBname', 'T90']].to_pickle('all_GRBs_with_T90_time.dat')"
   ]
  },
  {
   "cell_type": "code",
   "execution_count": 10,
   "metadata": {},
   "outputs": [],
   "source": [
    "#Extracting information about best fit parameters\n",
    "best_fit = pd.read_table(\"Summary_files/best_model.txt\", comment = '#', sep = '|', \\\n",
    "                          header = None, skipinitialspace = True)\n",
    "\n",
    "\n",
    "PL_fluence = pd.read_table(\"Summary_files/summary_pow_energy_fluence.txt\", comment = '#', sep = '|', \\\n",
    "                          header = None, skipinitialspace = True)\n",
    "PL_fluence.columns = \"GRBname | Trig_ID | 15_25kev | 15_25kev_low | 15_25kev_hi | 25_50kev | 25_50kev_low | 25_50kev_hi | 50_100kev | 50_100kev_low | 50_100kev_hi | 100_150kev | 100_150kev_low | 100_150kev_hi | 100_350kev | 100_350kev_low | 100_350kev_hi | 15_150kev | 15_150kev_low | 15_150kev_hi | 15_350kev | 15_350kev_low | 15_350kev_hi | Exposure_time | Spectrum_start | Spectrum_stop | comment\".split(\"|\")\n",
    "PL_fluence.columns = PL_fluence.columns.str.strip()\n",
    "PL_fluence = PL_fluence.drop_duplicates(subset = 'GRBname')\n",
    "PL_fluence = PL_fluence.set_index('GRBname')\n",
    "\n",
    "\n",
    "CPL_fluence = pd.read_table(\"Summary_files/summary_cutpow_energy_fluence.txt\", comment = '#', sep = '|', \\\n",
    "                          header = None, skipinitialspace = True)\n",
    "CPL_fluence.columns = \"GRBname | Trig_ID | 15_25kev | 15_25kev_low | 15_25kev_hi | 25_50kev | 25_50kev_low | 25_50kev_hi | 50_100kev | 50_100kev_low | 50_100kev_hi | 100_150kev | 100_150kev_low | 100_150kev_hi | 100_350kev | 100_350kev_low | 100_350kev_hi | 15_150kev | 15_150kev_low | 15_150kev_hi | 15_350kev | 15_350kev_low | 15_350kev_hi | Exposure_time | Spectrum_start | Spectrum_stop | comment\".split(\"|\")\n",
    "CPL_fluence.columns = CPL_fluence.columns.str.strip()\n",
    "CPL_fluence = CPL_fluence.drop_duplicates(subset = 'GRBname')\n",
    "CPL_fluence = CPL_fluence.set_index('GRBname')\n",
    "\n",
    "#Regn flux ud her\n",
    "PL_band5 = PL_fluence['15_350kev']\n",
    "CPL_band5 = CPL_fluence['15_350kev']\n",
    "best_fit = best_fit.set_index(0)\n",
    "CPL_better = best_fit[2].apply(lambda x: x == \"CPL\")\n",
    "\n",
    "\n",
    "best_fit_fluence = PL_band5.copy()\n",
    "best_fit_fluence[np.array(CPL_better)] = CPL_band5[np.array(CPL_better)]\n",
    "best_fit_fluence = pd.to_numeric(best_fit_fluence, errors = 'coerce')\n",
    "best_fit_fluence.index = best_fit_fluence.index.str.strip()\n",
    "\n",
    "#Check this part for errors, if something goes wrong"
   ]
  },
  {
   "cell_type": "code",
   "execution_count": 7,
   "metadata": {},
   "outputs": [],
   "source": [
    "from astropy.utils.data import download_file\n",
    "import shutil\n",
    "import os\n",
    "manual = []\n",
    "def hent(GRBnames,triggerID):\n",
    "    downloaded_lc = os.listdir('BAT_lc_25-09-2019')\n",
    "    count = 0\n",
    "    for grbname, trigger in zip(GRBnames,triggerID):\n",
    "        grbname, trigger = str(grbname).strip(), str(trigger).strip()\n",
    "        if grbname+'_lc.dat' in downloaded_lc:\n",
    "            count += 1\n",
    "            continue\n",
    "        elif len(trigger) == 6:\n",
    "            lc_url = \"https://swift.gsfc.nasa.gov/results/batgrbcat/%s/data_product/00%s000-results/lc/64ms_lc_ascii.dat\"%(grbname, trigger)\n",
    "        elif len(trigger) == 11:\n",
    "            lc_url = \"https://swift.gsfc.nasa.gov/results/batgrbcat/%s/data_product/%s-results/lc/64ms_lc_ascii.dat\"%(grbname, trigger)\n",
    "        else:\n",
    "            print('trigger ID for %s is not conventional'%(grbname))\n",
    "            manual.append(grbname)\n",
    "            continue\n",
    "        try:\n",
    "            tmp_path = download_file(lc_url)\n",
    "            batlc_path = \"BAT_lc_25-09-2019/%s_lc.dat\"%(grbname)\n",
    "            shutil.move(tmp_path, batlc_path)\n",
    "        except:\n",
    "            manual.append(grbname)\n",
    "    print(count)\n",
    "    return"
   ]
  },
  {
   "cell_type": "code",
   "execution_count": 8,
   "metadata": {
    "scrolled": true
   },
   "outputs": [
    {
     "name": "stdout",
     "output_type": "stream",
     "text": [
      "trigger ID for GRB160623A is not conventional\n",
      "trigger ID for GRB070125 is not conventional\n",
      "trigger ID for GRB060123 is not conventional\n",
      "1296\n"
     ]
    }
   ],
   "source": [
    "hent(Duration_Data.index,Duration_Data.Trig_id)"
   ]
  },
  {
   "cell_type": "code",
   "execution_count": 9,
   "metadata": {},
   "outputs": [],
   "source": [
    "mangler_download = pd.read_csv('grb_mangler_download.txt',header=None)"
   ]
  },
  {
   "cell_type": "code",
   "execution_count": 10,
   "metadata": {},
   "outputs": [],
   "source": [
    "a = Duration_Data.reset_index()\n",
    "b = a.loc[a.GRBname.isin(np.array(mangler_download[0],dtype=str))].set_index('GRBname')\n",
    "\n",
    "def hent_mangler(grbnames):\n",
    "    for grbname in grbnames:\n",
    "        trigger = b.Trig_id[grbname].strip()\n",
    "#         print(grbname, trigger)\n",
    "        lc_url = \"https://swift.gsfc.nasa.gov/results/batgrbcat/%s/data_product/%s-results/lc/64ms_lc_ascii.dat\"%(grbname,trigger)\n",
    "#         print(lc_url)\n",
    "        try:\n",
    "            tmp_path = download_file(lc_url)\n",
    "#             print(tmp_path)\n",
    "            batlc_path = \"BAT_lc_25-09-2019/%s_lc.dat\"%(grbname)\n",
    "#             print(batlc_path)\n",
    "            shutil.move(tmp_path, batlc_path)\n",
    "        except:\n",
    "            print(\"Fail at %s\"%grbname)\n",
    "            continue"
   ]
  },
  {
   "cell_type": "markdown",
   "metadata": {},
   "source": [
    "Following GRBs were excluded\n",
    "GRB060123 \n",
    "GRB070125 \n",
    "GRB160623A \n",
    "GRB170131A\n",
    "GRB160409A\n",
    "GRB150407A\n",
    "GRB140909A\n",
    "GRB140611A\n",
    "GRB131031A\n",
    "GRB130913A\n",
    "GRB130518A\n",
    "GRB120817B\n",
    "GRB110604A\n",
    "GRB101204A\n",
    "GRB090827\n",
    "GRB090720A\n",
    "GRB071112C\n",
    "GRB071028B\n",
    "GRB071010C\n",
    "GRB071006\n",
    "GRB070227\n",
    "GRB041219A"
   ]
  },
  {
   "cell_type": "code",
   "execution_count": 16,
   "metadata": {},
   "outputs": [],
   "source": [
    "def prepare_lc(filename,filepath = 'BAT_lc_25-09-2019',GRBname = None):\n",
    "    '''Takes the filename and return the scaled light_curve cropped to only include T100'''\n",
    "    grbname = filename[:-7]\n",
    "    if GRBname:\n",
    "        grbname = GRBname\n",
    "    \n",
    "    if \"%s_clc.dat\"%grbname in files:\n",
    "        return None\n",
    "    lc = pd.read_csv(\"%s/%s\"%(filepath, filename), sep = ' ', header = None)\n",
    "    lc = lc.loc[:, [0, 1, 3, 5, 7]]\n",
    "    lc = lc.loc[lc.loc[:,0].apply(lambda x: Duration_Data.T100_start[grbname] <= x and x <= Duration_Data.T100_stop[grbname])]\n",
    "    lc.reset_index(drop = True, inplace = True)\n",
    "    lc = lc.iloc[:, [1, 2, 3, 4]] / best_fit_fluence[grbname]\n",
    "    lc.to_pickle(\"cropped/%s_clc.dat\"%grbname)\n",
    "    return None\n",
    "    "
   ]
  },
  {
   "cell_type": "code",
   "execution_count": 21,
   "metadata": {},
   "outputs": [],
   "source": [
    "new_grbs = ['GRB190816A', 'GRB190821A', 'GRB190824A', 'GRB190828B', 'GRB190829A']\n",
    "for i in new_grbs:\n",
    "    i += '_lc.dat'\n",
    "    prepare_lc(i,'BAT_lc')"
   ]
  },
  {
   "cell_type": "code",
   "execution_count": 45,
   "metadata": {},
   "outputs": [
    {
     "data": {
      "text/plain": [
       "15308"
      ]
     },
     "execution_count": 45,
     "metadata": {},
     "output_type": "execute_result"
    }
   ],
   "source": [
    "# Duration_Data.T100.sort_values()\n",
    "# files\n",
    "maxlen"
   ]
  },
  {
   "cell_type": "code",
   "execution_count": 43,
   "metadata": {},
   "outputs": [],
   "source": [
    "files = os.listdir('cropped')"
   ]
  },
  {
   "cell_type": "code",
   "execution_count": 44,
   "metadata": {},
   "outputs": [],
   "source": [
    "lengths = []\n",
    "for filename in files:\n",
    "#     grbname = filename[:-7]\n",
    "    lc = pd.read_pickle(\"cropped/%s\"%filename)\n",
    "    lengths.append(len(lc))\n",
    "maxlen = max(lengths)"
   ]
  },
  {
   "cell_type": "code",
   "execution_count": 82,
   "metadata": {},
   "outputs": [],
   "source": [
    "lcs = []\n",
    "GRBnames = []\n",
    "for filename in files:\n",
    "    grbname = filename[:-8]\n",
    "    lc = pd.read_pickle(\"cropped/%s\"%filename)\n",
    "    lc.columns = [0,1,2,3]\n",
    "    zero_padded = pd.concat([lc,pd.DataFrame(np.zeros((maxlen - len(lc),4)))],axis=0)\n",
    "    oneD_lc = pd.concat([zero_padded.iloc[:,0],zero_padded.iloc[:,1],zero_padded.iloc[:,2],zero_padded.iloc[:,3]])\n",
    "    lcs.append(oneD_lc)\n",
    "    GRBnames.append(grbname)"
   ]
  },
  {
   "cell_type": "code",
   "execution_count": 93,
   "metadata": {},
   "outputs": [
    {
     "data": {
      "text/plain": [
       "GRBname\n",
       "GRB190829A     59.136\n",
       "GRB190828B    940.720\n",
       "GRB190824A    186.528\n",
       "GRB190821A     62.800\n",
       "GRB190816A    548.032\n",
       "GRB190727B     60.444\n",
       "GRB190719C    202.404\n",
       "GRB190718A    720.000\n",
       "GRB190706B     51.584\n",
       "GRB190701A     54.976\n",
       "GRB190630C     52.152\n",
       "GRB190630B      6.388\n",
       "GRB190627A      2.956\n",
       "GRB190613B    178.500\n",
       "GRB190613A     19.696\n",
       "GRB190611A     64.696\n",
       "GRB190610A      0.740\n",
       "GRB190604B    277.816\n",
       "GRB190519A     58.096\n",
       "GRB190515B     57.344\n",
       "GRB190512A     53.000\n",
       "GRB190511A     31.152\n",
       "GRB190427A      0.320\n",
       "GRB190424A     15.680\n",
       "GRB190422A    353.104\n",
       "GRB190331A      4.560\n",
       "GRB190326A      0.104\n",
       "GRB190324A     58.016\n",
       "GRB190320A     70.000\n",
       "GRB190311A     24.128\n",
       "               ...   \n",
       "GRB050418      88.912\n",
       "GRB050416B      4.124\n",
       "GRB050416A      9.452\n",
       "GRB050412      32.192\n",
       "GRB050410      64.000\n",
       "GRB050406       6.400\n",
       "GRB050401      33.712\n",
       "GRB050326      42.264\n",
       "GRB050319     161.864\n",
       "GRB050318      30.336\n",
       "GRB050315     125.160\n",
       "GRB050306     191.220\n",
       "GRB050223      28.576\n",
       "GRB050219B     74.160\n",
       "GRB050219A     36.208\n",
       "GRB050215B     15.440\n",
       "GRB050215A     71.392\n",
       "GRB050202       0.128\n",
       "GRB050128      33.000\n",
       "GRB050126      48.000\n",
       "GRB050124       6.964\n",
       "GRB050117     211.572\n",
       "GRB041228      73.436\n",
       "GRB041226       9.200\n",
       "GRB041224     226.924\n",
       "GRB041223     156.480\n",
       "GRB041220       7.020\n",
       "GRB041219C     12.000\n",
       "GRB041219B        NaN\n",
       "GRB041217       7.064\n",
       "Name: T100, Length: 1300, dtype: float64"
      ]
     },
     "execution_count": 93,
     "metadata": {},
     "output_type": "execute_result"
    }
   ],
   "source": [
    "# lcs_df = pd.DataFrame(np.array(lcs))\n",
    "# lcs_df.iloc[:,0] = lcs_df.iloc[:,0].apply(lambda x: x[:-1])\n",
    "# lcs_df.columns = ['GRBname']+ [i for i in range(0,61232)]\n",
    "pd.concat([Duration_Data.loc[Duration_Data.index.isin(GRBnames)].T100.reset_index(),lcs])"
   ]
  },
  {
   "cell_type": "code",
   "execution_count": 76,
   "metadata": {},
   "outputs": [],
   "source": [
    "# lcs_df.to_pickle('preFFT_dataset_09_10_19.dat')"
   ]
  },
  {
   "cell_type": "code",
   "execution_count": 49,
   "metadata": {},
   "outputs": [],
   "source": [
    "nan_index = lcs_df.loc[np.sum(lcs_df.isna(),axis=1).astype(bool)].index"
   ]
  },
  {
   "cell_type": "code",
   "execution_count": 50,
   "metadata": {},
   "outputs": [
    {
     "ename": "NameError",
     "evalue": "name 'convert_to_grbname' is not defined",
     "output_type": "error",
     "traceback": [
      "\u001b[1;31m---------------------------------------------------------------------------\u001b[0m",
      "\u001b[1;31mNameError\u001b[0m                                 Traceback (most recent call last)",
      "\u001b[1;32m<ipython-input-50-a0a355ef74ff>\u001b[0m in \u001b[0;36m<module>\u001b[1;34m\u001b[0m\n\u001b[0;32m      1\u001b[0m \u001b[0mnan_grbnames\u001b[0m \u001b[1;33m=\u001b[0m \u001b[1;33m[\u001b[0m\u001b[1;33m]\u001b[0m\u001b[1;33m\u001b[0m\u001b[1;33m\u001b[0m\u001b[0m\n\u001b[1;32m----> 2\u001b[1;33m \u001b[1;32mfor\u001b[0m \u001b[0mfilename\u001b[0m \u001b[1;32min\u001b[0m \u001b[0mconvert_to_grbname\u001b[0m\u001b[1;33m(\u001b[0m\u001b[0mnp\u001b[0m\u001b[1;33m.\u001b[0m\u001b[0marray\u001b[0m\u001b[1;33m(\u001b[0m\u001b[0mfiles\u001b[0m\u001b[1;33m)\u001b[0m\u001b[1;33m[\u001b[0m\u001b[0mlist\u001b[0m\u001b[1;33m(\u001b[0m\u001b[0mnan_index\u001b[0m\u001b[1;33m)\u001b[0m\u001b[1;33m]\u001b[0m\u001b[1;33m)\u001b[0m\u001b[1;33m:\u001b[0m\u001b[1;33m\u001b[0m\u001b[1;33m\u001b[0m\u001b[0m\n\u001b[0m\u001b[0;32m      3\u001b[0m     \u001b[0mnan_grbnames\u001b[0m\u001b[1;33m.\u001b[0m\u001b[0mappend\u001b[0m\u001b[1;33m(\u001b[0m\u001b[0mfilename\u001b[0m\u001b[1;33m[\u001b[0m\u001b[1;33m:\u001b[0m\u001b[1;33m-\u001b[0m\u001b[1;36m8\u001b[0m\u001b[1;33m]\u001b[0m\u001b[1;33m)\u001b[0m\u001b[1;33m\u001b[0m\u001b[1;33m\u001b[0m\u001b[0m\n",
      "\u001b[1;31mNameError\u001b[0m: name 'convert_to_grbname' is not defined"
     ]
    }
   ],
   "source": [
    "nan_grbnames = []\n",
    "for filename in convert_to_grbname(np.array(files)[list(nan_index)]):\n",
    "    nan_grbnames.append(filename[:-8])"
   ]
  },
  {
   "cell_type": "markdown",
   "metadata": {},
   "source": [
    "['GRB060510A_clc.dat', 'GRB081105A_clc.dat', 'GRB100115A_clc.dat',\n",
    "       'GRB101201A_clc.dat', 'GRB120218A_clc.dat', 'GRB130216B_clc.dat',\n",
    "       'GRB130305A_clc.dat', 'GRB131105A_clc.dat', 'GRB141102A_clc.dat',\n",
    "       'GRB141229A_clc.dat', 'GRB151111A_clc.dat', 'GRB151112A_clc.dat',\n",
    "       'GRB151114A_clc.dat'] NAN lightcurves\n",
    "\n",
    "GRB041219B, GRB050906, GRB060218, GRB060728, GRB061027, GRB061218, GRB070126, GRB080315, GRB080822B\n",
    "GRB081017, GRB101225A, GRB140311B, GRB150710B, GRB151107A, GRB160501A, GRB160525A\n",
    "Mangler T100\n",
    "\n",
    "GRB050509B, GRB070923, GRB090515, GRB100628A, GRB130822A, GRB150101B, GRB170112A har T100 < 64ms"
   ]
  },
  {
   "cell_type": "code",
   "execution_count": 111,
   "metadata": {},
   "outputs": [],
   "source": [
    "grbnames = []\n",
    "for filename in files:\n",
    "    grbname = filename[:-8]\n",
    "    if grbname not in nan_grbnames:\n",
    "        grbnames.append(grbname)"
   ]
  },
  {
   "cell_type": "code",
   "execution_count": 121,
   "metadata": {},
   "outputs": [],
   "source": [
    "b = pd.concat([pd.Series(grbnames),lcs_df.dropna().reset_index(drop=True)],axis=1)"
   ]
  },
  {
   "cell_type": "code",
   "execution_count": null,
   "metadata": {},
   "outputs": [],
   "source": []
  },
  {
   "cell_type": "code",
   "execution_count": 134,
   "metadata": {},
   "outputs": [],
   "source": [
    "# b.to_pickle('preFFT_dataset_25-09-2019.dat')"
   ]
  },
  {
   "cell_type": "code",
   "execution_count": 135,
   "metadata": {},
   "outputs": [
    {
     "data": {
      "text/plain": [
       "(1283, 61233)"
      ]
     },
     "execution_count": 135,
     "metadata": {},
     "output_type": "execute_result"
    }
   ],
   "source": []
  },
  {
   "cell_type": "code",
   "execution_count": 137,
   "metadata": {},
   "outputs": [],
   "source": [
    "ft = np.fft.rfft(b.iloc[:,1:])"
   ]
  },
  {
   "cell_type": "code",
   "execution_count": 138,
   "metadata": {
    "scrolled": true
   },
   "outputs": [
    {
     "name": "stdout",
     "output_type": "stream",
     "text": [
      "[t-SNE] Computing 91 nearest neighbors...\n",
      "[t-SNE] Indexed 1283 samples in 2.692s...\n",
      "[t-SNE] Computed neighbors for 1283 samples in 85.471s...\n",
      "[t-SNE] Computed conditional probabilities for sample 1000 / 1283\n",
      "[t-SNE] Computed conditional probabilities for sample 1283 / 1283\n",
      "[t-SNE] Mean sigma: 15163037.385373\n",
      "[t-SNE] Computed conditional probabilities in 0.373s\n",
      "[t-SNE] Iteration 50: error = 68.3874283, gradient norm = 0.2193192 (50 iterations in 0.807s)\n",
      "[t-SNE] Iteration 100: error = 64.8263397, gradient norm = 0.1885608 (50 iterations in 0.610s)\n",
      "[t-SNE] Iteration 150: error = 65.4447250, gradient norm = 0.1689139 (50 iterations in 0.615s)\n",
      "[t-SNE] Iteration 200: error = 65.4074097, gradient norm = 0.1610931 (50 iterations in 0.600s)\n",
      "[t-SNE] Iteration 250: error = 65.5497818, gradient norm = 0.1636636 (50 iterations in 0.665s)\n",
      "[t-SNE] KL divergence after 250 iterations with early exaggeration: 65.549782\n",
      "[t-SNE] Iteration 300: error = 1.1578578, gradient norm = 0.0008054 (50 iterations in 0.586s)\n",
      "[t-SNE] Iteration 350: error = 1.0832771, gradient norm = 0.0003720 (50 iterations in 0.506s)\n",
      "[t-SNE] Iteration 400: error = 1.0706728, gradient norm = 0.0001784 (50 iterations in 0.502s)\n",
      "[t-SNE] Iteration 450: error = 1.0655788, gradient norm = 0.0001495 (50 iterations in 0.510s)\n",
      "[t-SNE] Iteration 500: error = 1.0632383, gradient norm = 0.0001381 (50 iterations in 0.520s)\n",
      "[t-SNE] Iteration 550: error = 1.0617625, gradient norm = 0.0001311 (50 iterations in 0.529s)\n",
      "[t-SNE] Iteration 600: error = 1.0603987, gradient norm = 0.0001062 (50 iterations in 0.531s)\n",
      "[t-SNE] Iteration 650: error = 1.0593681, gradient norm = 0.0001024 (50 iterations in 0.537s)\n",
      "[t-SNE] Iteration 700: error = 1.0585771, gradient norm = 0.0001003 (50 iterations in 0.535s)\n",
      "[t-SNE] Iteration 750: error = 1.0577334, gradient norm = 0.0000964 (50 iterations in 0.552s)\n",
      "[t-SNE] Iteration 800: error = 1.0573461, gradient norm = 0.0000786 (50 iterations in 0.555s)\n",
      "[t-SNE] Iteration 850: error = 1.0566593, gradient norm = 0.0000887 (50 iterations in 0.565s)\n",
      "[t-SNE] Iteration 900: error = 1.0563543, gradient norm = 0.0000820 (50 iterations in 0.565s)\n",
      "[t-SNE] Iteration 950: error = 1.0558414, gradient norm = 0.0000777 (50 iterations in 0.567s)\n",
      "[t-SNE] Iteration 1000: error = 1.0554417, gradient norm = 0.0000710 (50 iterations in 0.575s)\n",
      "[t-SNE] Iteration 1050: error = 1.0551351, gradient norm = 0.0000731 (50 iterations in 0.580s)\n",
      "[t-SNE] Iteration 1100: error = 1.0549004, gradient norm = 0.0000657 (50 iterations in 0.583s)\n",
      "[t-SNE] Iteration 1150: error = 1.0547383, gradient norm = 0.0000651 (50 iterations in 0.586s)\n",
      "[t-SNE] Iteration 1200: error = 1.0546629, gradient norm = 0.0000576 (50 iterations in 0.594s)\n",
      "[t-SNE] Iteration 1250: error = 1.0542063, gradient norm = 0.0000622 (50 iterations in 0.600s)\n",
      "[t-SNE] Iteration 1300: error = 1.0540268, gradient norm = 0.0000597 (50 iterations in 0.605s)\n",
      "[t-SNE] Iteration 1350: error = 1.0537534, gradient norm = 0.0000653 (50 iterations in 0.608s)\n",
      "[t-SNE] Iteration 1400: error = 1.0538161, gradient norm = 0.0000536 (50 iterations in 0.607s)\n",
      "[t-SNE] Iteration 1450: error = 1.0535433, gradient norm = 0.0000555 (50 iterations in 0.610s)\n",
      "[t-SNE] Iteration 1500: error = 1.0535411, gradient norm = 0.0000516 (50 iterations in 0.716s)\n",
      "[t-SNE] Iteration 1550: error = 1.0532917, gradient norm = 0.0000503 (50 iterations in 0.794s)\n",
      "[t-SNE] Iteration 1600: error = 1.0532935, gradient norm = 0.0000459 (50 iterations in 0.805s)\n",
      "[t-SNE] Iteration 1650: error = 1.0531197, gradient norm = 0.0000438 (50 iterations in 0.639s)\n",
      "[t-SNE] Iteration 1700: error = 1.0529076, gradient norm = 0.0000425 (50 iterations in 0.630s)\n",
      "[t-SNE] Iteration 1750: error = 1.0527470, gradient norm = 0.0000531 (50 iterations in 0.634s)\n",
      "[t-SNE] Iteration 1800: error = 1.0525661, gradient norm = 0.0000530 (50 iterations in 0.637s)\n",
      "[t-SNE] Iteration 1850: error = 1.0524340, gradient norm = 0.0000493 (50 iterations in 0.636s)\n",
      "[t-SNE] Iteration 1900: error = 1.0524651, gradient norm = 0.0000408 (50 iterations in 0.623s)\n",
      "[t-SNE] Iteration 1950: error = 1.0523796, gradient norm = 0.0000485 (50 iterations in 0.643s)\n",
      "[t-SNE] Iteration 2000: error = 1.0523500, gradient norm = 0.0000478 (50 iterations in 0.664s)\n",
      "[t-SNE] Iteration 2050: error = 1.0522783, gradient norm = 0.0000438 (50 iterations in 0.676s)\n",
      "[t-SNE] Iteration 2100: error = 1.0522777, gradient norm = 0.0000586 (50 iterations in 0.657s)\n",
      "[t-SNE] Iteration 2150: error = 1.0521892, gradient norm = 0.0000446 (50 iterations in 0.652s)\n",
      "[t-SNE] Iteration 2200: error = 1.0520054, gradient norm = 0.0000413 (50 iterations in 0.655s)\n",
      "[t-SNE] Iteration 2250: error = 1.0520111, gradient norm = 0.0000437 (50 iterations in 0.668s)\n",
      "[t-SNE] Iteration 2300: error = 1.0519863, gradient norm = 0.0000342 (50 iterations in 0.657s)\n",
      "[t-SNE] Iteration 2350: error = 1.0519593, gradient norm = 0.0000390 (50 iterations in 0.655s)\n",
      "[t-SNE] Iteration 2400: error = 1.0517952, gradient norm = 0.0000411 (50 iterations in 0.662s)\n",
      "[t-SNE] Iteration 2450: error = 1.0517514, gradient norm = 0.0000374 (50 iterations in 0.675s)\n",
      "[t-SNE] Iteration 2500: error = 1.0515922, gradient norm = 0.0000458 (50 iterations in 0.671s)\n",
      "[t-SNE] Iteration 2550: error = 1.0515491, gradient norm = 0.0000370 (50 iterations in 0.665s)\n",
      "[t-SNE] Iteration 2600: error = 1.0516013, gradient norm = 0.0000345 (50 iterations in 0.670s)\n",
      "[t-SNE] Iteration 2650: error = 1.0514890, gradient norm = 0.0000319 (50 iterations in 0.680s)\n",
      "[t-SNE] Iteration 2700: error = 1.0513431, gradient norm = 0.0000299 (50 iterations in 0.677s)\n",
      "[t-SNE] Iteration 2750: error = 1.0512310, gradient norm = 0.0000358 (50 iterations in 0.683s)\n",
      "[t-SNE] Iteration 2800: error = 1.0512129, gradient norm = 0.0000331 (50 iterations in 0.682s)\n",
      "[t-SNE] Iteration 2850: error = 1.0512103, gradient norm = 0.0000435 (50 iterations in 0.683s)\n",
      "[t-SNE] Iteration 2900: error = 1.0511099, gradient norm = 0.0000378 (50 iterations in 0.686s)\n",
      "[t-SNE] Iteration 2950: error = 1.0511112, gradient norm = 0.0000300 (50 iterations in 0.709s)\n",
      "[t-SNE] Iteration 3000: error = 1.0511653, gradient norm = 0.0000352 (50 iterations in 0.838s)\n",
      "[t-SNE] Iteration 3050: error = 1.0509820, gradient norm = 0.0000308 (50 iterations in 0.879s)\n",
      "[t-SNE] Iteration 3100: error = 1.0510418, gradient norm = 0.0000326 (50 iterations in 0.815s)\n",
      "[t-SNE] Iteration 3150: error = 1.0510185, gradient norm = 0.0000320 (50 iterations in 0.698s)\n",
      "[t-SNE] Iteration 3200: error = 1.0509319, gradient norm = 0.0000305 (50 iterations in 0.696s)\n",
      "[t-SNE] Iteration 3250: error = 1.0509772, gradient norm = 0.0000320 (50 iterations in 0.671s)\n",
      "[t-SNE] Iteration 3300: error = 1.0509318, gradient norm = 0.0000303 (50 iterations in 0.673s)\n",
      "[t-SNE] Iteration 3350: error = 1.0510175, gradient norm = 0.0000277 (50 iterations in 0.854s)\n",
      "[t-SNE] Iteration 3400: error = 1.0509290, gradient norm = 0.0000270 (50 iterations in 0.881s)\n",
      "[t-SNE] Iteration 3450: error = 1.0508766, gradient norm = 0.0000277 (50 iterations in 0.678s)\n",
      "[t-SNE] Iteration 3500: error = 1.0508374, gradient norm = 0.0000326 (50 iterations in 0.691s)\n",
      "[t-SNE] Iteration 3550: error = 1.0508032, gradient norm = 0.0000266 (50 iterations in 0.693s)\n",
      "[t-SNE] Iteration 3600: error = 1.0507879, gradient norm = 0.0000281 (50 iterations in 0.702s)\n",
      "[t-SNE] Iteration 3650: error = 1.0507934, gradient norm = 0.0000341 (50 iterations in 0.694s)\n",
      "[t-SNE] Iteration 3700: error = 1.0507958, gradient norm = 0.0000334 (50 iterations in 0.675s)\n",
      "[t-SNE] Iteration 3750: error = 1.0507935, gradient norm = 0.0000248 (50 iterations in 0.703s)\n",
      "[t-SNE] Iteration 3800: error = 1.0507278, gradient norm = 0.0000282 (50 iterations in 0.708s)\n",
      "[t-SNE] Iteration 3850: error = 1.0508051, gradient norm = 0.0000231 (50 iterations in 0.708s)\n",
      "[t-SNE] Iteration 3900: error = 1.0507420, gradient norm = 0.0000282 (50 iterations in 0.709s)\n",
      "[t-SNE] Iteration 3950: error = 1.0507449, gradient norm = 0.0000273 (50 iterations in 0.713s)\n",
      "[t-SNE] Iteration 4000: error = 1.0506390, gradient norm = 0.0000279 (50 iterations in 0.717s)\n",
      "[t-SNE] Iteration 4050: error = 1.0505376, gradient norm = 0.0000205 (50 iterations in 0.717s)\n",
      "[t-SNE] Iteration 4100: error = 1.0504752, gradient norm = 0.0000210 (50 iterations in 0.725s)\n"
     ]
    },
    {
     "name": "stdout",
     "output_type": "stream",
     "text": [
      "[t-SNE] Iteration 4150: error = 1.0503629, gradient norm = 0.0000286 (50 iterations in 0.885s)\n",
      "[t-SNE] Iteration 4200: error = 1.0505210, gradient norm = 0.0000251 (50 iterations in 0.930s)\n",
      "[t-SNE] Iteration 4250: error = 1.0505573, gradient norm = 0.0000217 (50 iterations in 0.938s)\n",
      "[t-SNE] Iteration 4300: error = 1.0505397, gradient norm = 0.0000299 (50 iterations in 0.949s)\n",
      "[t-SNE] Iteration 4350: error = 1.0505853, gradient norm = 0.0000189 (50 iterations in 0.886s)\n",
      "[t-SNE] Iteration 4400: error = 1.0505570, gradient norm = 0.0000249 (50 iterations in 0.732s)\n",
      "[t-SNE] Iteration 4450: error = 1.0504546, gradient norm = 0.0000208 (50 iterations in 0.728s)\n",
      "[t-SNE] Iteration 4500: error = 1.0505074, gradient norm = 0.0000259 (50 iterations in 0.807s)\n",
      "[t-SNE] Iteration 4500: did not make any progress during the last 300 episodes. Finished.\n",
      "[t-SNE] KL divergence after 4500 iterations: 1.050507\n"
     ]
    }
   ],
   "source": [
    "#FJERN LIGE KORTE GRBS FØRST (altså T100 < 64ms skal væk)\n",
    "from sklearn.manifold import TSNE\n",
    "\n",
    "emb = TSNE(perplexity = 30,n_iter=15000,verbose=2).fit_transform(abs(ft))"
   ]
  },
  {
   "cell_type": "code",
   "execution_count": 4,
   "metadata": {},
   "outputs": [],
   "source": [
    "%matplotlib notebook"
   ]
  },
  {
   "cell_type": "code",
   "execution_count": null,
   "metadata": {},
   "outputs": [],
   "source": [
    "data = pd.read_pickle('preFFT_dataset_25-09-2019.dat')"
   ]
  },
  {
   "cell_type": "code",
   "execution_count": null,
   "metadata": {},
   "outputs": [],
   "source": [
    "T100 = Duration_Data.loc[Duration_Data.index.isin(data.iloc[:,0])].T100"
   ]
  },
  {
   "cell_type": "code",
   "execution_count": 18,
   "metadata": {},
   "outputs": [],
   "source": [
    "a = pd.concat([T100[::-1].reset_index(),data.iloc[:,1:]],axis=1)"
   ]
  },
  {
   "cell_type": "code",
   "execution_count": 20,
   "metadata": {},
   "outputs": [],
   "source": [
    "# a.to_pickle('preFFT_dataset.dat')"
   ]
  },
  {
   "cell_type": "code",
   "execution_count": 11,
   "metadata": {},
   "outputs": [],
   "source": [
    "PL_hardness = pd.to_numeric(PL_fluence.loc[:, '50_100kev'], errors = 'coerce')/pd.to_numeric(PL_fluence.loc[:, '25_50kev'], errors = 'coerce')\n",
    "CPL_hardness = pd.to_numeric(CPL_fluence.loc[:, '50_100kev'], errors = 'coerce')/pd.to_numeric(CPL_fluence.loc[:, '25_50kev'], errors = 'coerce')"
   ]
  },
  {
   "cell_type": "code",
   "execution_count": 12,
   "metadata": {},
   "outputs": [],
   "source": [
    "best_fit_hardness = PL_hardness.copy()\n",
    "best_fit_hardness[np.array(CPL_better)] = CPL_hardness[np.array(CPL_better)]\n",
    "# best_fit_hardness = pd.to_numeric(best_fit_fluence, errors = 'coerce')\n",
    "best_fit_hardness.index = best_fit_hardness.index.str.strip()"
   ]
  },
  {
   "cell_type": "code",
   "execution_count": 14,
   "metadata": {},
   "outputs": [],
   "source": [
    "best_fit_hardness.to_pickle(\"best_fir_hardness.dat\")"
   ]
  },
  {
   "cell_type": "code",
   "execution_count": 17,
   "metadata": {},
   "outputs": [],
   "source": [
    "CPL_better.index = CPL_better.index.str.strip()\n",
    "CPL_better.to_pickle(\"CPL_better.dat\")"
   ]
  },
  {
   "cell_type": "code",
   "execution_count": null,
   "metadata": {},
   "outputs": [],
   "source": []
  }
 ],
 "metadata": {
  "kernelspec": {
   "display_name": "Python 3",
   "language": "python",
   "name": "python3"
  },
  "language_info": {
   "codemirror_mode": {
    "name": "ipython",
    "version": 3
   },
   "file_extension": ".py",
   "mimetype": "text/x-python",
   "name": "python",
   "nbconvert_exporter": "python",
   "pygments_lexer": "ipython3",
   "version": "3.7.1"
  }
 },
 "nbformat": 4,
 "nbformat_minor": 2
}
